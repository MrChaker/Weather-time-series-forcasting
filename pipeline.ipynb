{
 "cells": [
  {
   "cell_type": "code",
   "execution_count": 1,
   "metadata": {},
   "outputs": [],
   "source": [
    "import cdsapi\n"
   ]
  },
  {
   "cell_type": "code",
   "execution_count": null,
   "metadata": {},
   "outputs": [],
   "source": [
    "c = cdsapi.Client()\n",
    "\n",
    "for year in range(2000, 2025):\n",
    "  c.retrieve(\n",
    "      'reanalysis-era5-single-levels',\n",
    "      {\n",
    "          'product_type': 'reanalysis',\n",
    "          'variable': [\n",
    "              '10m_u_component_of_wind', '10m_v_component_of_wind', '2m_temperature',\n",
    "              'cloud_base_height', 'snowfall', 'total_precipitation',\n",
    "          ],\n",
    "          'year': year,\n",
    "          'month': [\n",
    "              '01', '02', '03',\n",
    "              '04', '05', '06',\n",
    "              '07', '08', '09',\n",
    "              '10', '11', '12',\n",
    "          ],\n",
    "          'day': [\n",
    "              '01', '02', '03',\n",
    "              '04', '05', '06',\n",
    "              '07', '08', '09',\n",
    "              '10', '11', '12',\n",
    "              '13', '14', '15',\n",
    "              '16', '17', '18',\n",
    "              '19', '20', '21',\n",
    "              '22', '23', '24',\n",
    "              '25', '26', '27',\n",
    "              '28', '29', '30',\n",
    "              '31',\n",
    "          ],\n",
    "          'time': [\n",
    "              '00:00', '06:00', '12:00',\n",
    "              '18:00',\n",
    "          ],\n",
    "          'area': [\n",
    "              38, -8, 18,\n",
    "              12,\n",
    "          ],\n",
    "          'format': 'netcdf',\n",
    "      },\n",
    "      f'{year}ds.nc')\n",
    "\n"
   ]
  }
 ],
 "metadata": {
  "kernelspec": {
   "display_name": "Python 3",
   "language": "python",
   "name": "python3"
  },
  "language_info": {
   "codemirror_mode": {
    "name": "ipython",
    "version": 3
   },
   "file_extension": ".py",
   "mimetype": "text/x-python",
   "name": "python",
   "nbconvert_exporter": "python",
   "pygments_lexer": "ipython3",
   "version": "3.11.5"
  }
 },
 "nbformat": 4,
 "nbformat_minor": 2
}
